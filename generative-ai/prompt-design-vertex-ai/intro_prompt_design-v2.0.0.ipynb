{
 "cells": [
  {
   "cell_type": "code",
   "execution_count": null,
   "metadata": {
    "id": "ur8xi4C7S06n"
   },
   "outputs": [],
   "source": [
    "# Copyright 2025 Google LLC\n",
    "#\n",
    "# Licensed under the Apache License, Version 2.0 (the \"License\");\n",
    "# you may not use this file except in compliance with the License.\n",
    "# You may obtain a copy of the License at\n",
    "#\n",
    "#     https://www.apache.org/licenses/LICENSE-2.0\n",
    "#\n",
    "# Unless required by applicable law or agreed to in writing, software\n",
    "# distributed under the License is distributed on an \"AS IS\" BASIS,\n",
    "# WITHOUT WARRANTIES OR CONDITIONS OF ANY KIND, either express or implied.\n",
    "# See the License for the specific language governing permissions and\n",
    "# limitations under the License."
   ]
  },
  {
   "cell_type": "markdown",
   "metadata": {
    "id": "JAPoU8Sm5E6e"
   },
   "source": [
    "# Prompt Design - Best Practices\n",
    "\n",
    "<table align=\"left\">\n",
    "  <td style=\"text-align: center\">\n",
    "    <a href=\"https://colab.research.google.com/github/GoogleCloudPlatform/generative-ai/blob/main/gemini/prompts/intro_prompt_design.ipynb\">\n",
    "      <img width=\"32px\" src=\"https://www.gstatic.com/pantheon/images/bigquery/welcome_page/colab-logo.svg\" alt=\"Google Colaboratory logo\"><br> Open in Colab\n",
    "    </a>\n",
    "  </td>\n",
    "  <td style=\"text-align: center\">\n",
    "    <a href=\"https://console.cloud.google.com/vertex-ai/colab/import/https:%2F%2Fraw.githubusercontent.com%2FGoogleCloudPlatform%2Fgenerative-ai%2Fmain%2Fgemini%2Fprompts%2Fintro_prompt_design.ipynb\">\n",
    "      <img width=\"32px\" src=\"https://lh3.googleusercontent.com/JmcxdQi-qOpctIvWKgPtrzZdJJK-J3sWE1RsfjZNwshCFgE_9fULcNpuXYTilIR2hjwN\" alt=\"Google Cloud Colab Enterprise logo\"><br> Open in Colab Enterprise\n",
    "    </a>\n",
    "  </td>\n",
    "  <td style=\"text-align: center\">\n",
    "    <a href=\"https://console.cloud.google.com/vertex-ai/workbench/deploy-notebook?download_url=https://raw.githubusercontent.com/GoogleCloudPlatform/generative-ai/main/gemini/prompts/intro_prompt_design.ipynb\">\n",
    "      <img src=\"https://www.gstatic.com/images/branding/gcpiconscolors/vertexai/v1/32px.svg\" alt=\"Vertex AI logo\"><br> Open in Workbench\n",
    "    </a>\n",
    "  </td>\n",
    "  <td style=\"text-align: center\">\n",
    "    <a href=\"https://github.com/GoogleCloudPlatform/generative-ai/blob/main/gemini/prompts/intro_prompt_design.ipynb\">\n",
    "      <img width=\"32px\" src=\"https://www.svgrepo.com/download/217753/github.svg\" alt=\"GitHub logo\"><br> View on GitHub\n",
    "    </a>\n",
    "  </td>\n",
    "  <td style=\"text-align: center\">\n",
    "    <a href=\"https://goo.gle/4fWHlze\">\n",
    "      <img width=\"32px\" src=\"https://cdn.qwiklabs.com/assets/gcp_cloud-e3a77215f0b8bfa9b3f611c0d2208c7e8708ed31.svg\" alt=\"Google Cloud logo\"><br> Open in  Cloud Skills Boost\n",
    "    </a>\n",
    "  </td>\n",
    "</table>\n",
    "\n",
    "<div style=\"clear: both;\"></div>\n",
    "\n",
    "<b>Share to:</b>\n",
    "\n",
    "<a href=\"https://www.linkedin.com/sharing/share-offsite/?url=https%3A//github.com/GoogleCloudPlatform/generative-ai/blob/main/gemini/prompts/intro_prompt_design.ipynb\" target=\"_blank\">\n",
    "  <img width=\"20px\" src=\"https://upload.wikimedia.org/wikipedia/commons/8/81/LinkedIn_icon.svg\" alt=\"LinkedIn logo\">\n",
    "</a>\n",
    "<a href=\"https://bsky.app/intent/compose?text=https%3A//github.com/GoogleCloudPlatform/generative-ai/blob/main/gemini/prompts/intro_prompt_design.ipynb\" target=\"_blank\">\n",
    "  <img width=\"20px\" src=\"https://upload.wikimedia.org/wikipedia/commons/7/7a/Bluesky_Logo.svg\" alt=\"Bluesky logo\">\n",
    "</a>\n",
    "<a href=\"https://twitter.com/intent/tweet?url=https%3A//github.com/GoogleCloudPlatform/generative-ai/blob/main/gemini/prompts/intro_prompt_design.ipynb\" target=\"_blank\">\n",
    "  <img width=\"20px\" src=\"https://upload.wikimedia.org/wikipedia/commons/5/5a/X_icon_2.svg\" alt=\"X logo\">\n",
    "</a>\n",
    "<a href=\"https://reddit.com/submit?url=https%3A//github.com/GoogleCloudPlatform/generative-ai/blob/main/gemini/prompts/intro_prompt_design.ipynb\" target=\"_blank\">\n",
    "  <img width=\"20px\" src=\"https://redditinc.com/hubfs/Reddit%20Inc/Brand/Reddit_Logo.png\" alt=\"Reddit logo\">\n",
    "</a>\n",
    "<a href=\"https://www.facebook.com/sharer/sharer.php?u=https%3A//github.com/GoogleCloudPlatform/generative-ai/blob/main/gemini/prompts/intro_prompt_design.ipynb\" target=\"_blank\">\n",
    "  <img width=\"20px\" src=\"https://upload.wikimedia.org/wikipedia/commons/5/51/Facebook_f_logo_%282019%29.svg\" alt=\"Facebook logo\">\n",
    "</a>"
   ]
  },
  {
   "cell_type": "markdown",
   "metadata": {
    "id": "84f0f73a0f76"
   },
   "source": [
    "| Authors |\n",
    "| --- |\n",
    "| [Polong Lin](https://github.com/polong-lin) |\n",
    "| [Karl Weinmeister](https://github.com/kweinmeister) |"
   ]
  },
  {
   "cell_type": "markdown",
   "metadata": {
    "id": "tvgnzT1CKxrO"
   },
   "source": [
    "## Overview\n",
    "\n",
    "This notebook covers the essentials of prompt engineering, including some best practices.\n",
    "\n",
    "Learn more about prompt design in the [official documentation](https://cloud.google.com/vertex-ai/docs/generative-ai/text/text-overview).\n",
    "\n",
    "In this notebook, you learn best practices around prompt engineering -- how to design prompts to improve the quality of your responses.\n",
    "\n",
    "This notebook covers the following best practices for prompt engineering:\n",
    "\n",
    "- Be concise\n",
    "- Be specific and well-defined\n",
    "- Ask one task at a time\n",
    "- Turn generative tasks into classification tasks\n",
    "- Improve response quality by including examples"
   ]
  },
  {
   "cell_type": "markdown",
   "metadata": {
    "id": "61RBz8LLbxCR"
   },
   "source": [
    "## Getting Started"
   ]
  },
  {
   "cell_type": "markdown",
   "metadata": {
    "id": "No17Cw5hgx12"
   },
   "source": [
    "### Install Google Gen AI SDK\n"
   ]
  },
  {
   "cell_type": "code",
   "execution_count": 2,
   "metadata": {
    "id": "tFy3H3aPgx12",
    "tags": []
   },
   "outputs": [
    {
     "name": "stdout",
     "output_type": "stream",
     "text": [
      "Note: you may need to restart the kernel to use updated packages.\n"
     ]
    }
   ],
   "source": [
    "%pip install --upgrade --quiet google-genai"
   ]
  },
  {
   "cell_type": "markdown",
   "metadata": {
    "id": "06489bd14f16"
   },
   "source": [
    "### Import libraries\n"
   ]
  },
  {
   "cell_type": "code",
   "execution_count": 3,
   "metadata": {
    "id": "154137022fb6",
    "tags": []
   },
   "outputs": [],
   "source": [
    "from IPython.display import Markdown, display\n",
    "from google import genai\n",
    "from google.genai.types import GenerateContentConfig"
   ]
  },
  {
   "cell_type": "markdown",
   "metadata": {
    "id": "DF4l8DTdWgPY"
   },
   "source": [
    "### Set Google Cloud project information and create client\n",
    "\n",
    "To get started using Vertex AI, you must have an existing Google Cloud project and [enable the Vertex AI API](https://console.cloud.google.com/flows/enableapi?apiid=aiplatform.googleapis.com).\n",
    "\n",
    "Learn more about [setting up a project and a development environment](https://cloud.google.com/vertex-ai/docs/start/cloud-environment)."
   ]
  },
  {
   "cell_type": "code",
   "execution_count": 4,
   "metadata": {
    "id": "Nqwi-5ufWp_B",
    "tags": []
   },
   "outputs": [],
   "source": [
    "import os\n",
    "\n",
    "PROJECT_ID = \"[PROJECT_ID]\"  # @param {type: \"string\", placeholder: \"[your-project-id]\", isTemplate: true}\n",
    "if not PROJECT_ID or PROJECT_ID == \"[PROJECT_ID]\":\n",
    "    PROJECT_ID = str(os.environ.get(\"GOOGLE_CLOUD_PROJECT\"))\n",
    "\n",
    "LOCATION = \"global\""
   ]
  },
  {
   "cell_type": "code",
   "execution_count": 5,
   "metadata": {
    "id": "QqRWdPGmW3NJ",
    "tags": []
   },
   "outputs": [],
   "source": [
    "client = genai.Client(vertexai=True, project=PROJECT_ID, location=LOCATION)"
   ]
  },
  {
   "cell_type": "markdown",
   "metadata": {
    "id": "OnFPpCRtXRl4"
   },
   "source": [
    "### Load model\n",
    "\n",
    "Learn more about all [Gemini models on Vertex AI](https://cloud.google.com/vertex-ai/generative-ai/docs/learn/models#gemini-models)."
   ]
  },
  {
   "cell_type": "code",
   "execution_count": 6,
   "metadata": {
    "id": "IQYu_9SvXQah",
    "tags": []
   },
   "outputs": [],
   "source": [
    "MODEL_ID = \"gemini-2.5-flash\"  # @param {type: \"string\"}"
   ]
  },
  {
   "cell_type": "markdown",
   "metadata": {
    "id": "cVOtUNJ5X0PY"
   },
   "source": [
    "## Prompt engineering best practices"
   ]
  },
  {
   "cell_type": "markdown",
   "metadata": {
    "id": "uv_e0fEPX60q"
   },
   "source": [
    "Prompt engineering is all about how to design your prompts so that the response is what you were indeed hoping to see.\n",
    "\n",
    "The idea of using \"unfancy\" prompts is to minimize the noise in your prompt to reduce the possibility of the LLM misinterpreting the intent of the prompt. Below are a few guidelines on how to engineer \"unfancy\" prompts.\n",
    "\n",
    "In this section, you'll cover the following best practices when engineering prompts:\n",
    "\n",
    "* Be concise\n",
    "* Be specific, and well-defined\n",
    "* Ask one task at a time\n",
    "* Improve response quality by including examples\n",
    "* Turn generative tasks to classification tasks to improve safety"
   ]
  },
  {
   "cell_type": "markdown",
   "metadata": {
    "id": "0pY4XX0OX9_Y"
   },
   "source": [
    "### Be concise"
   ]
  },
  {
   "cell_type": "markdown",
   "metadata": {
    "id": "xlRpxyxGYA1K"
   },
   "source": [
    "🛑 Not recommended. The prompt below is unnecessarily verbose."
   ]
  },
  {
   "cell_type": "code",
   "execution_count": 7,
   "metadata": {
    "id": "YKV4G-CfXdbi",
    "tags": []
   },
   "outputs": [
    {
     "data": {
      "text/markdown": [
       "That's a fantastic niche! Dried flowers offer a unique aesthetic and longevity. Here are some name ideas, playing on different vibes:\n",
       "\n",
       "**Evocative & Poetic:**\n",
       "1.  **Everbloom:** Implies perpetual beauty.\n",
       "2.  **The Still Bloom:** Suggests captured beauty, peacefulness.\n",
       "3.  **Hushed Petals:** Evokes a quiet, delicate, preserved elegance.\n",
       "4.  **Golden Hour Florals:** Connotes warmth, nostalgia, and timelessness, like a beautiful memory.\n",
       "5.  **Botanical Keepsakes:** Emphasizes the lasting, sentimental value.\n",
       "6.  **Petal & Pause:** Suggests a moment suspended in time.\n",
       "7.  **Whispering Blooms:** A gentle, delicate, and mysterious feel.\n",
       "8.  **The Floral Archive:** Implies a collection of timeless botanical treasures.\n",
       "\n",
       "**Modern & Chic:**\n",
       "9.  **Bloom.Dry Co.** (or Studio, or Collective): Simple, direct, and trendy.\n",
       "10. **The Preserved Edit:** Suggests curated, high-quality selections.\n",
       "11. **Still Life Florals:** A sophisticated nod to art and enduring beauty.\n",
       "12. **Evergreen & Bloom** (even though not all are green, it suggests everlasting).\n",
       "13. **Root & Bloom Dried:** Combines natural elements with the core product.\n",
       "14. **Botanical Preserve:** Clean, direct, and elegant.\n",
       "\n",
       "**Clear & Descriptive:**\n",
       "15. **The Dried Bouquet Co.**\n",
       "16. **Forever Florals**\n",
       "17. **Lasting Blooms**\n",
       "18. **Heirloom Botanicals:** Suggests quality and timelessness.\n",
       "19. **Preserved Petals**\n",
       "20. **Air-Dried Blooms:** Highlights the natural drying process.\n",
       "\n",
       "**Classic & Elegant:**\n",
       "21. **The Heirloom Bloomery:** Feels traditional and special.\n",
       "22. **The Enduring Posy:** \"Posy\" adds a sweet, classic touch.\n",
       "23. **Flora Antiqua:** Latin for \"ancient flowers,\" sophisticated.\n",
       "24. **Apothecary Blooms:** Suggests natural, carefully prepared botanicals.\n",
       "25. **The Timeless Stem:** Simple, elegant, and focused.\n",
       "\n",
       "**Whimsical & Playful:**\n",
       "26. **Dusty Petal Co.** (can be cute, or imply actual dust, depending on branding)\n",
       "27. **Sun-Kissed & Dried**\n",
       "28. **The Fading Bloom** (might be too negative, but could work for a very rustic/vintage feel)\n",
       "29. **Forever & A Bloom**\n",
       "\n",
       "**Tips for Choosing:**\n",
       "\n",
       "*   **Say it out loud:** Does it roll off the tongue? Is it easy to remember and pronounce?\n",
       "*   **Check for availability:** Is the domain name available? What about social media handles?\n",
       "*   **Consider your target audience:** Are they seeking rustic, bohemian, modern, or classic?\n",
       "*   **Reflect your aesthetic:** Does the name evoke the style of arrangements you'll be creating?\n",
       "\n",
       "Good luck with your new venture!"
      ],
      "text/plain": [
       "<IPython.core.display.Markdown object>"
      ]
     },
     "metadata": {},
     "output_type": "display_data"
    }
   ],
   "source": [
    "prompt = \"What do you think could be a good name for a flower shop that specializes in selling bouquets of dried flowers more than fresh flowers?\"\n",
    "\n",
    "response = client.models.generate_content(model=MODEL_ID, contents=prompt)\n",
    "display(Markdown(response.text))"
   ]
  },
  {
   "cell_type": "markdown",
   "metadata": {
    "id": "YrJexRHJYnmC"
   },
   "source": [
    "✅ Recommended. The prompt below is to the point and concise."
   ]
  },
  {
   "cell_type": "code",
   "execution_count": 8,
   "metadata": {
    "id": "VHetn9lCYrXB",
    "tags": []
   },
   "outputs": [
    {
     "data": {
      "text/markdown": [
       "That's a lovely niche! Dried flowers evoke a sense of timelessness, preservation, rustic charm, and sustainable beauty. Here are some name suggestions, playing on different aspects:\n",
       "\n",
       "**Evocative & Poetic:**\n",
       "\n",
       "1.  **Whispering Blooms:** Suggests a gentle, lasting beauty and stories held within the flowers.\n",
       "2.  **Everbloom Botanicals:** Simple, direct, and emphasizes longevity.\n",
       "3.  **The Preserved Petal:** Elegant and clearly states the product.\n",
       "4.  **Timeless Tresses:** \"Tresses\" implies locks of hair, evoking a delicate, flowing quality for the dried stems.\n",
       "5.  **Memory Petals:** Highlights the idea of keepsakes and lasting memories.\n",
       "6.  **Sun-Kissed Stems:** Implies natural drying and warmth.\n",
       "7.  **Amber & Bloom:** \"Amber\" suggests preservation and a warm, golden hue.\n",
       "8.  **Echoing Petals:** A poetic nod to the flowers' enduring presence.\n",
       "\n",
       "**Charming & Whimsical:**\n",
       "\n",
       "9.  **The Forever Bunch:** Cute, memorable, and clear.\n",
       "10. **Dusty Petals & Co.** (or **Dusty Bloom**): Plays on the \"dried\" aspect in a charming, nostalgic way.\n",
       "11. **The Keepsake Garden:** Suggests collecting and holding onto beautiful moments.\n",
       "12. **Petal & Pine:** \"Pine\" can evoke a natural, earthy, and long-lasting feel.\n",
       "13. **Bloom & Behold:** A playful take on the beauty of the arrangements.\n",
       "\n",
       "**Elegant & Sophisticated:**\n",
       "\n",
       "14. **Botanical Endure:** Classy and highlights the lasting nature.\n",
       "15. **The Enduring Stem:** Simple, strong, and sophisticated.\n",
       "16. **Flora & Form:** Focuses on the artistic and structural beauty.\n",
       "17. **Terra & Bloom:** \"Terra\" (earth) connects to the natural origins and earthy tones.\n",
       "18. **Bloom & Preserve:** Direct, yet elegant.\n",
       "\n",
       "**Rustic & Earthy:**\n",
       "\n",
       "19. **Harvest & Hearth:** Evokes a warm, homey, and gathered feel.\n",
       "20. **The Dried Garden:** Straightforward and natural.\n",
       "21. **Root & Bloom:** Suggests the full cycle of nature and life.\n",
       "22. **Field & Forged:** \"Forged\" implies crafted and created, linking to the artistry.\n",
       "\n",
       "**Tips for Choosing:**\n",
       "\n",
       "*   **Say it out loud:** Does it roll off the tongue?\n",
       "*   **Check availability:** Is the name available as a domain name, social media handle, and business registration?\n",
       "*   **Consider your target audience:** Are they looking for rustic, modern, elegant, or whimsical?\n",
       "*   **Think about your branding:** How will the name influence your logo, packaging, and shop decor?\n",
       "*   **Keep it memorable:** Easy to spell and recall.\n",
       "\n",
       "Good luck with your flower shop!"
      ],
      "text/plain": [
       "<IPython.core.display.Markdown object>"
      ]
     },
     "metadata": {},
     "output_type": "display_data"
    }
   ],
   "source": [
    "prompt = \"Suggest a name for a flower shop that sells bouquets of dried flowers\"\n",
    "\n",
    "response = client.models.generate_content(model=MODEL_ID, contents=prompt)\n",
    "display(Markdown(response.text))"
   ]
  },
  {
   "cell_type": "markdown",
   "metadata": {
    "id": "eXTAvdOHY0OC"
   },
   "source": [
    "### Be specific, and well-defined"
   ]
  },
  {
   "cell_type": "markdown",
   "metadata": {
    "id": "FTH4GEIgY1dp"
   },
   "source": [
    "Suppose that you want to brainstorm creative ways to describe Earth."
   ]
  },
  {
   "cell_type": "markdown",
   "metadata": {
    "id": "o5BmXBiGY4KC"
   },
   "source": [
    "🛑 The prompt below might be a bit too generic (which is certainly OK if you'd like to ask a generic question!)"
   ]
  },
  {
   "cell_type": "code",
   "execution_count": 9,
   "metadata": {
    "id": "eHBaMvv7Y6mR",
    "tags": []
   },
   "outputs": [
    {
     "data": {
      "text/markdown": [
       "Earth is a truly extraordinary and unique planet, a vibrant cosmic oasis teeming with life. Here's a comprehensive look at our home:\n",
       "\n",
       "## Earth: The Blue Planet\n",
       "\n",
       "*   **Location:** Earth is the **third planet from the Sun** in our Solar System, located in the habitable zone – the region where temperatures are just right for liquid water to exist on the surface.\n",
       "*   **Name Origin:** Unlike other planets named after Roman or Greek gods, \"Earth\" comes from the Old English word \"eorðe,\" meaning \"ground\" or \"land.\"\n",
       "\n",
       "## Key Characteristics:\n",
       "\n",
       "1.  **The Water Planet:** Approximately **71% of Earth's surface is covered by water**, primarily in its oceans, but also in lakes, rivers, glaciers, and ice caps. This abundance of liquid water is a fundamental reason for the planet's ability to support life. Earth is often called the \"Blue Planet\" from space due to this dominant feature.\n",
       "\n",
       "2.  **The Living Planet:** Earth is the **only known astronomical object to harbor life**. From microscopic organisms to colossal whales, life in countless forms thrives in nearly every environment, from the deepest oceans to the highest mountains. This incredible biodiversity is a testament to the planet's unique conditions and complex evolutionary history.\n",
       "\n",
       "3.  **Atmosphere:** Earth has a robust atmosphere crucial for life and regulating temperature.\n",
       "    *   **Composition:** Roughly **78% nitrogen, 21% oxygen**, and trace amounts of argon, carbon dioxide, water vapor, and other gases.\n",
       "    *   **Functions:** It provides the air we breathe, shields the surface from harmful solar radiation (especially the ozone layer), traps heat (the greenhouse effect, which keeps Earth warm enough to support life), and distributes heat around the globe, creating weather patterns.\n",
       "\n",
       "4.  **Size and Shape:**\n",
       "    *   **Fifth largest planet** in the Solar System.\n",
       "    *   It's not a perfect sphere; it's an **oblate spheroid**, meaning it bulges slightly at the equator and is flattened at the poles due to its rotation.\n",
       "\n",
       "5.  **Internal Structure:** Earth has a layered internal structure:\n",
       "    *   **Crust:** The thin, rocky outer layer (continental and oceanic).\n",
       "    *   **Mantle:** A thick, semi-solid, \"plastic\" layer beneath the crust, where convection currents drive plate tectonics.\n",
       "    *   **Outer Core:** A liquid layer of iron and nickel, responsible for generating Earth's magnetic field.\n",
       "    *   **Inner Core:** A solid ball of iron and nickel, under immense pressure and heat, comparable to the surface of the Sun.\n",
       "\n",
       "6.  **Geological Activity (Plate Tectonics):** Earth's crust is broken into several large and small **tectonic plates** that are constantly moving, driven by convection currents in the mantle. This movement causes:\n",
       "    *   **Earthquakes:** When plates slide past each other, collide, or pull apart.\n",
       "    *   **Volcanoes:** Often formed at plate boundaries where magma rises to the surface.\n",
       "    *   **Mountain Ranges:** Formed when plates collide and crumple.\n",
       "    *   **Oceanic Trenches:** Formed where one plate subducts (slides) beneath another.\n",
       "\n",
       "7.  **Magnetic Field:** Earth possesses a powerful magnetic field generated by the convection of molten iron in its outer core. This field creates the **magnetosphere**, which acts as a protective shield, deflecting harmful charged particles from the Sun (solar wind) and cosmic rays, preventing them from stripping away our atmosphere.\n",
       "\n",
       "8.  **Earth's Moon (Luna):** Earth has one large, natural satellite, which plays a significant role:\n",
       "    *   **Tides:** Its gravitational pull is the primary cause of ocean tides.\n",
       "    *   **Stabilizing Axial Tilt:** The Moon helps stabilize Earth's axial tilt (currently ~23.5 degrees), which contributes to stable seasons and a more predictable climate over long periods.\n",
       "\n",
       "9.  **Orbit and Rotation:**\n",
       "    *   **Revolution:** Earth orbits the Sun in an elliptical path, completing one revolution (a year) in approximately 365.25 days.\n",
       "    *   **Rotation:** It rotates on its axis, completing one rotation (a day) in about 23 hours, 56 minutes, and 4 seconds. This rotation causes the cycle of day and night.\n",
       "\n",
       "## The Human Impact and Future:\n",
       "\n",
       "For billions of years, Earth's systems have evolved, creating the habitable environment we enjoy. However, human activities have had a significant and accelerating impact on the planet's climate and ecosystems, leading to challenges such as:\n",
       "*   Climate change\n",
       "*   Deforestation\n",
       "*   Pollution\n",
       "*   Loss of biodiversity\n",
       "\n",
       "Understanding Earth's intricate systems and processes is crucial for addressing these challenges and ensuring the long-term health and habitability of our precious home."
      ],
      "text/plain": [
       "<IPython.core.display.Markdown object>"
      ]
     },
     "metadata": {},
     "output_type": "display_data"
    }
   ],
   "source": [
    "prompt = \"Tell me about Earth\"\n",
    "\n",
    "response = client.models.generate_content(model=MODEL_ID, contents=prompt)\n",
    "display(Markdown(response.text))"
   ]
  },
  {
   "cell_type": "markdown",
   "metadata": {
    "id": "4iyvEbteZnFL"
   },
   "source": [
    "✅ Recommended. The prompt below is specific and well-defined."
   ]
  },
  {
   "cell_type": "code",
   "execution_count": 10,
   "metadata": {
    "id": "JQ80z8urZnne",
    "tags": []
   },
   "outputs": [
    {
     "data": {
      "text/markdown": [
       "Earth stands out in our solar system, and as far as we know, in the observable universe, due to a unique combination of factors that have allowed for the sustained flourishing of complex life. Here are some key ways Earth is unique compared to other planets:\n",
       "\n",
       "1.  **Abundant Surface Liquid Water:** Earth is the only known planet to have stable, vast oceans of liquid water on its surface. While other bodies have ice (Mars, moons of Jupiter/Saturn) or subsurface oceans (Europa, Enceladus), Earth's surface liquid water is crucial for initiating and sustaining life as we know it, participating in the hydrological cycle, and moderating climate.\n",
       "\n",
       "2.  **A Dynamic, Oxygen-Rich Atmosphere:**\n",
       "    *   **Composition:** Earth's atmosphere is about 21% oxygen, a direct product of photosynthetic life. This is unique; other planets have atmospheres dominated by carbon dioxide (Venus, Mars) or hydrogen/helium (gas giants).\n",
       "    *   **Pressure & Temperature:** The atmospheric pressure and temperature are just right to allow liquid water to exist stably and to support respiration for complex life.\n",
       "    *   **Protective Layer:** It provides a shield against harmful solar radiation and incoming meteoroids.\n",
       "\n",
       "3.  **Active Plate Tectonics:** Earth is the only known planet with active plate tectonics. This process constantly recycles the planet's crust, leading to:\n",
       "    *   **Geological Activity:** Earthquakes, volcanoes, mountain building.\n",
       "    *   **Climate Regulation:** The carbon-silicate cycle, driven by plate tectonics, helps regulate the amount of CO2 in the atmosphere, stabilizing Earth's long-term climate.\n",
       "    *   **Nutrient Cycling:** Brings fresh minerals to the surface, crucial for life.\n",
       "\n",
       "4.  **A Strong, Global Magnetic Field (Magnetosphere):** Earth's molten iron core generates a powerful magnetic field that extends far into space. This magnetosphere:\n",
       "    *   **Shields from Solar Wind:** Protects the atmosphere from being stripped away by the solar wind and cosmic rays.\n",
       "    *   **Protects Life:** Shields life from damaging radiation, allowing for evolution and survival.\n",
       "    *   Mars, for example, lost most of its atmosphere partly because it lost its global magnetic field.\n",
       "\n",
       "5.  **A Large, Stabilizing Moon:** Earth's Moon is unusually large relative to its planet's size, likely formed from a giant impact. This large moon:\n",
       "    *   **Stabilizes Axial Tilt:** Minimizes dramatic wobbles in Earth's axial tilt, leading to relatively stable seasons and long-term climate, crucial for the continuous evolution of life.\n",
       "    *   **Generates Tides:** Its gravitational pull creates ocean tides, which may have played a role in the emergence of life from the oceans onto land.\n",
       "\n",
       "6.  **\"Goldilocks Zone\" Location and Stable Orbit:** Earth orbits the Sun in the \"habitable zone\" (or Goldilocks zone), where temperatures are just right for liquid water to exist on the surface. But beyond just distance:\n",
       "    *   **Stable Star:** The Sun is a relatively stable star, without extreme flares or variability that would sterilize the planet.\n",
       "    *   **Low Orbital Eccentricity:** Earth's orbit is nearly circular, leading to less extreme temperature variations throughout the year.\n",
       "\n",
       "7.  **The Presence of Complex, Diverse, and Intelligent Life:** This is arguably Earth's most unique feature. While the conditions listed above create the *potential* for life, Earth is the only known planet where life has not only arisen but has evolved into immense complexity, biodiversity, and eventually, intelligent, self-aware beings capable of exploring the universe. The co-evolution of life and the planet (e.g., life producing the oxygen atmosphere) is also a unique feedback loop.\n",
       "\n",
       "It's the *combination* and *interplay* of these unique factors that make Earth truly a singular and precious planet."
      ],
      "text/plain": [
       "<IPython.core.display.Markdown object>"
      ]
     },
     "metadata": {},
     "output_type": "display_data"
    }
   ],
   "source": [
    "prompt = \"Generate a list of ways that makes Earth unique compared to other planets\"\n",
    "\n",
    "response = client.models.generate_content(model=MODEL_ID, contents=prompt)\n",
    "display(Markdown(response.text))"
   ]
  },
  {
   "cell_type": "markdown",
   "metadata": {
    "id": "R5kmfZYHZsJ7"
   },
   "source": [
    "### Ask one task at a time"
   ]
  },
  {
   "cell_type": "markdown",
   "metadata": {
    "id": "rsAezxeYZuUN"
   },
   "source": [
    "🛑 Not recommended. The prompt below has two parts to the question that could be asked separately."
   ]
  },
  {
   "cell_type": "code",
   "execution_count": 11,
   "metadata": {
    "id": "ElywPXpuZtWf",
    "tags": []
   },
   "outputs": [
    {
     "data": {
      "text/markdown": [
       "You've got two great questions! Let's break them down.\n",
       "\n",
       "---\n",
       "\n",
       "## What's the Best Method of Boiling Water?\n",
       "\n",
       "\"Best\" can be subjective, depending on your priorities (speed, energy efficiency, convenience, safety, portability). Here's a breakdown of common methods:\n",
       "\n",
       "1.  **Electric Kettle (Generally the Best for Home Use)**\n",
       "    *   **Why it's often considered best:**\n",
       "        *   **Speed:** Very fast. The heating element is directly immersed in the water, transferring heat efficiently.\n",
       "        *   **Energy Efficiency:** Highly efficient due to direct heating and minimal heat loss to the surrounding air compared to a stovetop.\n",
       "        *   **Convenience:** Simple to use, portable within a home, and many have automatic shut-off features when boiling is reached, preventing over-boiling and saving energy/safety.\n",
       "        *   **Safety:** Auto-shutoff is a big plus.\n",
       "    *   **Cons:** Requires an electrical outlet, not suitable for camping/power outages.\n",
       "\n",
       "2.  **Stovetop Pot/Kettle (Most Versatile)**\n",
       "    *   **Why it's good:**\n",
       "        *   **Versatility:** Works on gas, electric, or induction cooktops. You likely already own a pot.\n",
       "        *   **Volume:** Can boil larger quantities of water than most electric kettles.\n",
       "        *   **No Special Appliance:** Doesn't require a dedicated appliance like an electric kettle.\n",
       "    *   **Cons:**\n",
       "        *   **Slower:** Heat transfer is less direct (pot heats, then water heats), leading to some energy loss to the air.\n",
       "        *   **Less Energy Efficient:** More heat escapes to the kitchen air.\n",
       "        *   **Requires Monitoring:** You need to watch it to prevent boil-overs or to turn off the heat once boiling.\n",
       "\n",
       "3.  **Microwave (Use with Caution!)**\n",
       "    *   **Why it's okay for very small amounts:**\n",
       "        *   **Convenience:** Good for a single cup if you don't have a kettle.\n",
       "    *   **Why it's *not* recommended as \"best\":**\n",
       "        *   **Safety Risk (Superheating):** Water can become \"superheated\" in a microwave – heated above its boiling point without actually bubbling. Disturbing it (e.g., adding a teabag, picking up the cup) can cause it to explode violently, leading to severe burns.\n",
       "        *   **Uneven Heating:** Microwaves heat water unevenly, so it's harder to ensure a true, rolling boil throughout.\n",
       "        *   **Not Energy Efficient for Volume:** Very inefficient for anything more than a single cup.\n",
       "    *   **If you must:** Always put a non-metallic stir stick (like a wooden spoon) in the cup before heating to provide a nucleation point for bubbles.\n",
       "\n",
       "4.  **Immersion Heater (Portable)**\n",
       "    *   **Why it's good:**\n",
       "        *   **Portability:** Excellent for travel or dorm rooms where a kettle might not be practical.\n",
       "        *   **Direct Heating:** Heats water quickly as the element is in the water.\n",
       "    *   **Cons:** Requires a specific container, often slower than an electric kettle, and requires careful handling to avoid burns or electrical shock.\n",
       "\n",
       "5.  **Camp Stove/Open Fire (Off-Grid)**\n",
       "    *   **Why it's good:**\n",
       "        *   **Off-Grid:** Essential for camping, hiking, or power outages.\n",
       "    *   **Cons:** Slower, less efficient, requires fuel, and produces combustion byproducts.\n",
       "\n",
       "**Conclusion for \"Best Method\":**\n",
       "\n",
       "For everyday home use, an **electric kettle** is generally the \"best\" due to its speed, energy efficiency, and safety features. If you need to boil very large quantities, or prefer not to have another appliance, a **stovetop pot/kettle** is a close second. **Avoid the microwave** for boiling water if possible, due to the significant safety risks.\n",
       "\n",
       "---\n",
       "\n",
       "## Why is the Sky Blue?\n",
       "\n",
       "The blue color of the sky is primarily due to a phenomenon called **Rayleigh scattering**. Here's how it works:\n",
       "\n",
       "1.  **Sunlight is White Light:** Sunlight appears white to us, but it's actually composed of all the colors of the rainbow (red, orange, yellow, green, blue, indigo, violet). Each color has a different wavelength – blue and violet light have shorter, smaller wavelengths, while red and orange light have longer, larger wavelengths.\n",
       "\n",
       "2.  **Earth's Atmosphere:** Our atmosphere is made up of tiny gas molecules (like nitrogen and oxygen) and small particles. These particles are much, much smaller than the wavelengths of visible light.\n",
       "\n",
       "3.  **Rayleigh Scattering:** When sunlight enters the Earth's atmosphere, it collides with these tiny molecules and particles. This causes the light to scatter in all directions.\n",
       "    *   **Shorter Wavelengths Scatter More:** The key is that shorter wavelengths of light (like blue and violet) are scattered *much more effectively* by these small atmospheric particles than longer wavelengths (like red and orange). Imagine a small pebble hitting a large boulder versus a tiny grain of sand – the grain of sand bounces around much more erratically.\n",
       "\n",
       "4.  **What We See:**\n",
       "    *   As blue and violet light are scattered in all directions throughout the atmosphere, they essentially \"fill\" the sky.\n",
       "    *   When you look up, you see this scattered blue light coming from all directions, which makes the sky appear blue.\n",
       "\n",
       "5.  **Why Not Violet?**\n",
       "    *   Violet light actually scatters even *more* than blue light, but our eyes are less sensitive to violet light than to blue light.\n",
       "    *   Also, the sun's spectrum contains less violet light to begin with. So, the dominant color we perceive from the scattered light is blue.\n",
       "\n",
       "**What About Other Colors (Sunsets, Clouds)?**\n",
       "\n",
       "*   **Red/Orange Sunsets:** When the sun is low on the horizon (sunrise or sunset), its light has to travel through much more of the Earth's atmosphere to reach your eyes. By the time it gets to you, most of the blue and violet light has been scattered away, leaving primarily the longer-wavelength red, orange, and yellow light to reach your eyes directly.\n",
       "*   **White Clouds:** Clouds are made of much larger water droplets or ice crystals. These are larger than the wavelengths of visible light, so they scatter *all* colors of light pretty much equally. When all colors are scattered equally, the light appears white."
      ],
      "text/plain": [
       "<IPython.core.display.Markdown object>"
      ]
     },
     "metadata": {},
     "output_type": "display_data"
    }
   ],
   "source": [
    "prompt = \"What's the best method of boiling water and why is the sky blue?\"\n",
    "\n",
    "response = client.models.generate_content(model=MODEL_ID, contents=prompt)\n",
    "display(Markdown(response.text))"
   ]
  },
  {
   "cell_type": "markdown",
   "metadata": {
    "id": "ejzahazBZ8vk"
   },
   "source": [
    "✅ Recommended. The prompts below asks one task a time."
   ]
  },
  {
   "cell_type": "code",
   "execution_count": 12,
   "metadata": {
    "id": "C5ckp2F0Z_Ba",
    "tags": []
   },
   "outputs": [
    {
     "data": {
      "text/markdown": [
       "The \"best\" method for boiling water really depends on your priorities: **speed, energy efficiency, convenience, volume, and available resources.**\n",
       "\n",
       "Here's a breakdown of common methods and when each might be considered \"best\":\n",
       "\n",
       "---\n",
       "\n",
       "### 1. **Electric Kettle (Overall Winner for Most Households)**\n",
       "\n",
       "*   **Best For:** Speed, energy efficiency, convenience for common household volumes (1-2 liters).\n",
       "*   **Pros:**\n",
       "    *   **Speed:** Extremely fast, often quicker than a stovetop for typical amounts.\n",
       "    *   **Energy Efficiency:** Very high. The heating element is directly immersed in the water, minimizing heat loss. Many models are more efficient than stovetops.\n",
       "    *   **Convenience:** Simple \"on\" switch, auto shut-off when boiled (safety and energy saving), cordless pouring.\n",
       "    *   **Portability:** Can be used anywhere with an electrical outlet.\n",
       "*   **Cons:**\n",
       "    *   Capacity limit (typically 1-2 liters).\n",
       "    *   Requires an electrical outlet.\n",
       "\n",
       "### 2. **Induction Stovetop (Best for Stovetop Speed & Efficiency)**\n",
       "\n",
       "*   **Best For:** Speed, energy efficiency, precise control, especially for larger volumes.\n",
       "*   **Pros:**\n",
       "    *   **Speed:** Incredibly fast, often comparable to or even faster than an electric kettle for larger pots.\n",
       "    *   **Energy Efficiency:** Very high. Magnetic fields directly heat the cookware, with very little wasted heat.\n",
       "    *   **Safety:** The cooktop itself doesn't get hot (only residual heat from the pot), reducing burn risk.\n",
       "    *   **Control:** Precise temperature adjustments.\n",
       "*   **Cons:**\n",
       "    *   Requires induction-compatible cookware (magnetic bottom).\n",
       "    *   Higher initial cost for the stove.\n",
       "\n",
       "### 3. **Gas Stovetop (Best for Versatility & Common Use)**\n",
       "\n",
       "*   **Best For:** Versatility, good speed, common availability, cooking larger volumes.\n",
       "*   **Pros:**\n",
       "    *   **Speed:** Fast, as the flame directly heats the pot.\n",
       "    *   **Control:** Instantaneous heat adjustment.\n",
       "    *   **Versatility:** Works with all types of cookware.\n",
       "    *   Often cheaper to operate than electric coil in many regions.\n",
       "*   **Cons:**\n",
       "    *   Less energy efficient than electric kettles or induction (some heat escapes around the pot).\n",
       "    *   Open flame presents a small safety risk.\n",
       "\n",
       "### 4. **Microwave (Best for Single Servings)**\n",
       "\n",
       "*   **Best For:** Boiling a single cup of water quickly (e.g., for tea or instant coffee).\n",
       "*   **Pros:**\n",
       "    *   **Speed:** Very fast for small amounts.\n",
       "    *   **Convenience:** No separate pot needed, just use your mug.\n",
       "*   **Cons:**\n",
       "    *   **Safety Risk (Superheating):** Water can sometimes become superheated without bubbling, then suddenly erupt when disturbed (e.g., by adding a spoon or teabag). To mitigate, place a wooden stir stick or a non-smooth object in the mug, and let it sit for a moment after heating.\n",
       "    *   Not practical for larger volumes.\n",
       "    *   Doesn't reach a rolling boil as uniformly as other methods.\n",
       "\n",
       "### 5. **Electric Coil / Radiant Stovetop (Generally Least Efficient Stovetop)**\n",
       "\n",
       "*   **Best For:** When it's the only option available.\n",
       "*   **Pros:**\n",
       "    *   Common in many homes.\n",
       "    *   Works with all types of cookware.\n",
       "*   **Cons:**\n",
       "    *   **Speed:** Slower than other stovetop methods and electric kettles.\n",
       "    *   **Energy Efficiency:** Least efficient of the common kitchen methods, as heat is transferred indirectly from the element to the pot, with significant radiant heat loss.\n",
       "    *   Slow to cool down.\n",
       "\n",
       "### 6. **Immersion Heater (Best for Travel/Emergencies)**\n",
       "\n",
       "*   **Best For:** Boiling water in a mug while traveling or in situations where you don't have a kitchen.\n",
       "*   **Pros:**\n",
       "    *   Extremely portable and compact.\n",
       "    *   Fast for single servings.\n",
       "*   **Cons:**\n",
       "    *   **Safety Risk:** Can be very dangerous if not used correctly (e.g., not fully immersed, leaving unattended, using in plastic containers).\n",
       "    *   Limited to very small volumes.\n",
       "\n",
       "### 7. **Campfire / Open Flame (Best for Outdoor/Survival)**\n",
       "\n",
       "*   **Best For:** Situations where electricity or gas are unavailable (camping, power outage).\n",
       "*   **Pros:**\n",
       "    *   No external energy source needed (if you have fuel).\n",
       "    *   Adds to the outdoor experience.\n",
       "*   **Cons:**\n",
       "    *   Least energy-efficient.\n",
       "    *   Requires building and tending a fire.\n",
       "    *   Significant safety precautions needed.\n",
       "\n",
       "---\n",
       "\n",
       "### General Tips for Boiling Water (Regardless of Method):\n",
       "\n",
       "*   **Use a Lid:** Always use a lid on your pot or kettle. This traps steam and heat, significantly speeding up the boiling process and saving energy.\n",
       "*   **Use the Right Amount of Water:** Only boil as much water as you need. Boiling excess water wastes energy and time.\n",
       "*   **Start with Hot Tap Water (If Safe):** If your tap water is safe to drink and not for sensitive uses (like baby formula), starting with hot tap water can save a little time and energy.\n",
       "*   **Use the Right Pot Size:** A pot that fits the burner well will heat more efficiently. For stovetops, ensure the flame or heating element is not wider than the pot's base.\n",
       "\n",
       "---\n",
       "\n",
       "**Conclusion:**\n",
       "\n",
       "For most people, the **electric kettle** is the \"best\" method for boiling water due to its unparalleled combination of speed, energy efficiency, and convenience for common household volumes. If you're boiling larger quantities for cooking, an **induction stovetop** is hard to beat for efficiency and speed."
      ],
      "text/plain": [
       "<IPython.core.display.Markdown object>"
      ]
     },
     "metadata": {},
     "output_type": "display_data"
    }
   ],
   "source": [
    "prompt = \"What's the best method of boiling water?\"\n",
    "\n",
    "response = client.models.generate_content(model=MODEL_ID, contents=prompt)\n",
    "display(Markdown(response.text))"
   ]
  },
  {
   "cell_type": "code",
   "execution_count": 13,
   "metadata": {
    "id": "KwUzhud4aA89",
    "tags": []
   },
   "outputs": [
    {
     "data": {
      "text/markdown": [
       "The sky is blue primarily due to a phenomenon called **Rayleigh scattering**. Here's a breakdown of why:\n",
       "\n",
       "1.  **Sunlight is White Light:** Sunlight, which appears white to us, is actually made up of all the colors of the rainbow (red, orange, yellow, green, blue, indigo, violet). Each of these colors has a different **wavelength** – red has the longest wavelength, and violet has the shortest.\n",
       "\n",
       "2.  **Earth's Atmosphere:** The Earth is surrounded by an **atmosphere**, which is a mixture of gases (mainly nitrogen and oxygen molecules) and tiny particles.\n",
       "\n",
       "3.  **Light Scattering:** When sunlight enters the atmosphere, it collides with these gas molecules and tiny particles. Instead of passing straight through, the light gets redirected in all directions – this is what we call **scattering**.\n",
       "\n",
       "4.  **Why Blue is Scattered More (Rayleigh Scattering):**\n",
       "    *   **Short Wavelengths Scatter More:** The key to why the sky is blue is that **short wavelengths of light (like blue and violet) are scattered much more efficiently than longer wavelengths (like red and yellow) by the tiny nitrogen and oxygen molecules in our atmosphere.**\n",
       "    *   This specific type of scattering is called Rayleigh scattering, and it's highly dependent on wavelength – specifically, it's inversely proportional to the fourth power of the wavelength (λ⁴). This means shorter wavelengths are scattered *far* more intensely.\n",
       "\n",
       "5.  **Why Not Violet?**\n",
       "    *   If violet light has an even shorter wavelength than blue, why isn't the sky violet? There are two main reasons:\n",
       "        *   **The Sun's Spectrum:** The sun emits slightly more blue light than violet light in the visible spectrum.\n",
       "        *   **Our Eyes:** Our eyes are more sensitive to blue light than to violet light.\n",
       "\n",
       "6.  **The Result:** Because blue light is scattered in all directions so much more effectively than other colors, wherever you look in the sky, you see this scattered blue light coming at you, making the sky appear blue.\n",
       "\n",
       "**What about Sunrises and Sunsets?**\n",
       "\n",
       "When the sun is low on the horizon (during sunrise or sunset), its light has to travel through a much greater amount of atmosphere to reach your eyes. By the time it reaches you, most of the blue and violet light has been scattered away, leaving primarily the longer wavelengths – red, orange, and yellow – to reach your eyes directly, creating those beautiful warm colors."
      ],
      "text/plain": [
       "<IPython.core.display.Markdown object>"
      ]
     },
     "metadata": {},
     "output_type": "display_data"
    }
   ],
   "source": [
    "prompt = \"Why is the sky blue?\"\n",
    "\n",
    "response = client.models.generate_content(model=MODEL_ID, contents=prompt)\n",
    "display(Markdown(response.text))"
   ]
  },
  {
   "cell_type": "markdown",
   "metadata": {
    "id": "PJIL2RTQaGcT"
   },
   "source": [
    "### Watch out for hallucinations"
   ]
  },
  {
   "cell_type": "markdown",
   "metadata": {
    "id": "8Y8kYxrSaHE9"
   },
   "source": [
    "Although LLMs have been trained on a large amount of data, they can generate text containing statements not grounded in truth or reality; these responses from the LLM are often referred to as \"hallucinations\" due to their limited memorization capabilities. Note that simply prompting the LLM to provide a citation isn't a fix to this problem, as there are instances of LLMs providing false or inaccurate citations. Dealing with hallucinations is a fundamental challenge of LLMs and an ongoing research area, so it is important to be cognizant that LLMs may seem to give you confident, correct-sounding statements that are in fact incorrect.\n",
    "\n",
    "Note that if you intend to use LLMs for the creative use cases, hallucinating could actually be quite useful."
   ]
  },
  {
   "cell_type": "markdown",
   "metadata": {
    "id": "8NY5nAGeaJYS"
   },
   "source": [
    "Try the prompt like the one below repeatedly. We set the temperature to `1.0` so that it takes more risks in its choices. It's possible that it may provide an inaccurate, but confident answer."
   ]
  },
  {
   "cell_type": "code",
   "execution_count": 14,
   "metadata": {
    "id": "QALPjEILaM62",
    "tags": []
   },
   "outputs": [
    {
     "data": {
      "text/markdown": [
       "As an AI, I don't have a real-time \"today\" in the same way humans do, as my knowledge isn't constantly updated with the exact current moment.\n",
       "\n",
       "To find out what day it is today, you can simply:\n",
       "*   **Look at the clock/calendar on your device** (computer, phone, etc.).\n",
       "*   **Do a quick web search** for \"what is today's date\"."
      ],
      "text/plain": [
       "<IPython.core.display.Markdown object>"
      ]
     },
     "metadata": {},
     "output_type": "display_data"
    }
   ],
   "source": [
    "generation_config = GenerateContentConfig(temperature=1.0)\n",
    "\n",
    "prompt = \"What day is it today?\"\n",
    "\n",
    "response = client.models.generate_content(model=MODEL_ID, contents=prompt)\n",
    "display(Markdown(response.text))"
   ]
  },
  {
   "cell_type": "markdown",
   "metadata": {
    "id": "BRkwzbgRbhKt"
   },
   "source": [
    "Since LLMs do not have access to real-time information without further integrations, you may have noticed it hallucinates what day it is today in some of the outputs."
   ]
  },
  {
   "cell_type": "markdown",
   "metadata": {
    "id": "3c811e310d02"
   },
   "source": [
    "### Using system instructions to guardrail the model from irrelevant responses\n",
    "\n",
    "How can we attempt to reduce the chances of irrelevant responses and hallucinations?\n",
    "\n",
    "One way is to provide the LLM with [system instructions](https://cloud.google.com/vertex-ai/generative-ai/docs/learn/prompts/system-instruction-introduction).\n",
    "\n",
    "Let's see how system instructions works and how you can use them to reduce hallucinations or irrelevant questions for a travel chatbot.\n",
    "\n",
    "Suppose we ask a simple question about one of Italy's most famous tourist spots."
   ]
  },
  {
   "cell_type": "code",
   "execution_count": 15,
   "metadata": {
    "id": "rB6zJU76biFK",
    "tags": []
   },
   "outputs": [
    {
     "data": {
      "text/markdown": [
       "For sightseeing in Milan, Italy, the absolute best place is the **Duomo di Milano (Milan Cathedral)**.\n",
       "\n",
       "It's not just a church; it's a breathtaking architectural masterpiece with incredible detail, and you can even go up to the terraces for stunning panoramic views of the city. It's truly an iconic symbol of Milan and a must-see for any visitor."
      ],
      "text/plain": [
       "<IPython.core.display.Markdown object>"
      ]
     },
     "metadata": {},
     "output_type": "display_data"
    }
   ],
   "source": [
    "generation_config = GenerateContentConfig(temperature=1.0)\n",
    "\n",
    "chat = client.chats.create(\n",
    "    model=MODEL_ID,\n",
    "    config=GenerateContentConfig(\n",
    "        system_instruction=[\n",
    "            \"Hello! You are an AI chatbot for a travel web site.\",\n",
    "            \"Your mission is to provide helpful queries for travelers.\",\n",
    "            \"Remember that before you answer a question, you must check to see if it complies with your mission.\",\n",
    "            \"If not, you can say, Sorry I can't answer that question.\",\n",
    "        ]\n",
    "    ),\n",
    ")\n",
    "\n",
    "prompt = \"What is the best place for sightseeing in Milan, Italy?\"\n",
    "\n",
    "response = chat.send_message(prompt)\n",
    "display(Markdown(response.text))"
   ]
  },
  {
   "cell_type": "markdown",
   "metadata": {
    "id": "WZa-Qcf9cF4A"
   },
   "source": [
    "Now let us pretend to be a user asks the chatbot a question that is unrelated to travel."
   ]
  },
  {
   "cell_type": "code",
   "execution_count": 16,
   "metadata": {
    "id": "AZKBIDr2cGnu",
    "tags": []
   },
   "outputs": [
    {
     "data": {
      "text/markdown": [
       "Sorry, I can't answer that question."
      ],
      "text/plain": [
       "<IPython.core.display.Markdown object>"
      ]
     },
     "metadata": {},
     "output_type": "display_data"
    }
   ],
   "source": [
    "prompt = \"How do I make pizza dough at home?\"\n",
    "\n",
    "response = chat.send_message(prompt)\n",
    "display(Markdown(response.text))"
   ]
  },
  {
   "cell_type": "markdown",
   "metadata": {
    "id": "JiUYIhwpctCy"
   },
   "source": [
    "You can see that this way, a guardrail in the prompt prevented the chatbot from veering off course."
   ]
  },
  {
   "cell_type": "markdown",
   "metadata": {
    "id": "ZuuDhA37cvmP"
   },
   "source": [
    "### Turn generative tasks into classification tasks to reduce output variability"
   ]
  },
  {
   "cell_type": "markdown",
   "metadata": {
    "id": "kUCUrsUzczmb"
   },
   "source": [
    "#### Generative tasks lead to higher output variability"
   ]
  },
  {
   "cell_type": "markdown",
   "metadata": {
    "id": "a1xASHAkc46n"
   },
   "source": [
    "The prompt below results in an open-ended response, useful for brainstorming, but response is highly variable."
   ]
  },
  {
   "cell_type": "code",
   "execution_count": 17,
   "metadata": {
    "id": "nPfXQWIacwRf",
    "tags": []
   },
   "outputs": [
    {
     "data": {
      "text/markdown": [
       "That's a fantastic goal! The best way to improve your programming skills as a high school student is to work on projects that genuinely interest you, allow you to learn new concepts, and give you tangible results.\n",
       "\n",
       "Here are a few programming activity recommendations, categorized by the type of skills they help build, with options for different interests and starting points:\n",
       "\n",
       "---\n",
       "\n",
       "### 1. **Build an Interactive Text-Based Game (Great for Logic & Foundations)**\n",
       "\n",
       "*   **Why it's great:** You learn core programming concepts (variables, loops, conditionals, functions) in a fun, engaging way. No complex graphics needed, so you can focus purely on logic.\n",
       "*   **Recommended Language:** Python (very beginner-friendly)\n",
       "*   **Project Ideas:**\n",
       "    *   **\"Choose Your Own Adventure\" Game:** Create a branching story where user choices determine the next scene. You'll learn about `if/elif/else` statements, functions, and keeping track of player state.\n",
       "    *   **Hangman/Tic-Tac-Toe/Guess the Number:** Classic games that require basic game logic, input/output, loops, and conditional checks.\n",
       "    *   **Simple RPG:** Design a basic role-playing game where the player battles monsters, collects items, and explores text-based locations. This involves more complex data structures (lists, dictionaries) and functions.\n",
       "*   **Skills You'll Develop:**\n",
       "    *   Problem decomposition (breaking down a big problem into smaller pieces)\n",
       "    *   Algorithmic thinking\n",
       "    *   Control flow (loops, conditionals)\n",
       "    *   Functions\n",
       "    *   Basic data structures (lists, strings, maybe dictionaries)\n",
       "    *   User input/output\n",
       "    *   Debugging\n",
       "\n",
       "---\n",
       "\n",
       "### 2. **Create a Personal Website / Portfolio (Great for Web Dev & Presentation)**\n",
       "\n",
       "*   **Why it's great:** You'll learn highly sought-after web development skills, have a place to showcase your projects, and get immediate visual feedback.\n",
       "*   **Recommended Languages/Technologies:** HTML, CSS, JavaScript\n",
       "*   **Project Ideas:**\n",
       "    *   **\"About Me\" Page:** A simple static page introducing yourself, your hobbies, and your interests.\n",
       "    *   **Project Portfolio:** A page dedicated to showcasing your programming projects (even the text-based game!). Include descriptions, screenshots, and links to code (e.g., on GitHub).\n",
       "    *   **Simple Blog:** A page where you can write about your programming journey, new things you've learned, or other topics.\n",
       "    *   **Interactive Quiz:** Use JavaScript to create a quiz with multiple-choice questions, scoring, and feedback.\n",
       "*   **Skills You'll Develop:**\n",
       "    *   **HTML:** Structuring web content.\n",
       "    *   **CSS:** Styling and layout (making things look good!).\n",
       "    *   **JavaScript:** Adding interactivity and dynamic behavior to your pages.\n",
       "    *   **Responsive Design:** Making your site look good on phones, tablets, and computers.\n",
       "    *   **Version Control (Git/GitHub):** Essential for managing your code and collaborating.\n",
       "    *   **Deployment:** Getting your website online (e.g., using GitHub Pages, Netlify, Vercel).\n",
       "\n",
       "---\n",
       "\n",
       "### 3. **Build an Automation/Utility Script (Great for Practical Problem Solving)**\n",
       "\n",
       "*   **Why it's great:** You'll learn how to use programming to solve real-world problems and make your life easier. These scripts can often be small but incredibly powerful.\n",
       "*   **Recommended Language:** Python (excellent for scripting)\n",
       "*   **Project Ideas:**\n",
       "    *   **File Organizer:** A script that sorts files in a folder into different subfolders based on their type (e.g., all `.jpg` files go to `Images/`, all `.pdf` files go to `Documents/`).\n",
       "    *   **Simple Web Scraper:** A script that fetches data from a website (e.g., weather forecast, latest news headlines, prices of a product) and displays it or saves it to a file.\n",
       "    *   **Password Generator:** A script that generates strong, random passwords based on user criteria (length, inclusion of numbers, symbols, etc.).\n",
       "    *   **Bulk Renamer:** A script to rename multiple files in a directory based on a pattern.\n",
       "*   **Skills You'll Develop:**\n",
       "    *   **File I/O:** Reading from and writing to files.\n",
       "    *   **String Manipulation:** Working with text data.\n",
       "    *   **Using Libraries/Modules:** Leveraging existing code (e.g., `os` for file system, `requests`/`BeautifulSoup` for web scraping, `random` for generation).\n",
       "    *   **Error Handling:** Making your script robust.\n",
       "    *   **Command-Line Arguments:** Making your script configurable from the terminal.\n",
       "\n",
       "---\n",
       "\n",
       "### Bonus Tips for Success:\n",
       "\n",
       "1.  **Start Small, Iterate, and Add Features:** Don't try to build the next Facebook on your first project. Start with the absolute core functionality, get it working, and then slowly add more features.\n",
       "2.  **Break Down Problems:** When you encounter a big problem, break it into smaller, manageable pieces. Solve each piece individually.\n",
       "3.  **Google is Your Best Friend:** Seriously, every programmer Googles. Learn how to search effectively for error messages, syntax, and how-to guides.\n",
       "4.  **Read Documentation:** Once you get comfortable, try to read the official documentation for the language or libraries you're using. It's a key skill.\n",
       "5.  **Use Version Control (Git/GitHub):** Even for solo projects, Git allows you to save different versions of your code, revert mistakes, and easily share your work. Start by learning the basics (`git init`, `git add`, `git commit`, `git push`).\n",
       "6.  **Debug!** Your code *will* have errors. Learning to read error messages, use print statements, or use a debugger is an essential skill. Embrace the debugging process.\n",
       "7.  **Find a Community:** Look for online communities (e.g., Reddit's r/learnprogramming, r/Python, r/webdev, Discord servers) where you can ask questions and share your progress.\n",
       "8.  **Have Fun!** Programming should be an exciting journey of creation and problem-solving. Pick something you're genuinely curious about.\n",
       "\n",
       "Choose one of these ideas that sparks your interest, pick a language, and just *start coding*! You'll learn immensely by doing. Good luck!"
      ],
      "text/plain": [
       "<IPython.core.display.Markdown object>"
      ]
     },
     "metadata": {},
     "output_type": "display_data"
    }
   ],
   "source": [
    "prompt = \"I'm a high school student. Recommend me a programming activity to improve my skills.\"\n",
    "\n",
    "response = client.models.generate_content(model=MODEL_ID, contents=prompt)\n",
    "display(Markdown(response.text))"
   ]
  },
  {
   "cell_type": "markdown",
   "metadata": {
    "id": "iAmm9wPYc_1o"
   },
   "source": [
    "#### Classification tasks reduces output variability"
   ]
  },
  {
   "cell_type": "markdown",
   "metadata": {
    "id": "VvRpK_0GdCpf"
   },
   "source": [
    "The prompt below results in a choice and may be useful if you want the output to be easier to control."
   ]
  },
  {
   "cell_type": "code",
   "execution_count": 18,
   "metadata": {
    "id": "kYDKh0r2dAqo",
    "tags": []
   },
   "outputs": [
    {
     "data": {
      "text/markdown": [
       "As a high school student looking to get into programming, this is a fantastic question! You're at a great age to start building valuable skills.\n",
       "\n",
       "Let's break down each option and then I'll give you my suggestion.\n",
       "\n",
       "---\n",
       "\n",
       "### Understanding Each Option:\n",
       "\n",
       "#### a) Learn Python\n",
       "\n",
       "*   **Pros:**\n",
       "    *   **Extremely Beginner-Friendly:** Python's syntax is very readable and similar to plain English, making it an excellent first language. You'll grasp core concepts quickly.\n",
       "    *   **Incredibly Versatile:** Python is used everywhere!\n",
       "        *   **Web Development:** Backend (Django, Flask)\n",
       "        *   **Data Science & Machine Learning:** (NumPy, Pandas, scikit-learn, TensorFlow, PyTorch) - This is a *huge* growth area.\n",
       "        *   **Automation & Scripting:** Automate tedious tasks on your computer.\n",
       "        *   **Game Development:** (Pygame)\n",
       "        *   **Scientific Computing:** (SciPy)\n",
       "        *   **Desktop Applications:** (Tkinter, PyQt)\n",
       "    *   **Large Community & Resources:** There are tons of tutorials, online courses (Coursera, edX, freeCodeCamp), and a huge supportive community.\n",
       "    *   **High Demand:** Python skills are highly sought after in many industries.\n",
       "\n",
       "*   **Cons:**\n",
       "    *   **Performance (sometimes):** For extremely high-performance, low-level tasks, Python can be slower than compiled languages like C++ or Fortran. But for 99% of what you'll do, this isn't an issue.\n",
       "    *   **Mobile Development:** Not directly used for native iOS/Android apps (though frameworks exist).\n",
       "\n",
       "#### b) Learn JavaScript\n",
       "\n",
       "*   **Pros:**\n",
       "    *   **The Language of the Web:** If you want to build anything interactive on the internet (websites, web apps), you *need* JavaScript. It runs directly in your browser.\n",
       "    *   **Immediate Visual Gratification:** You can build a simple HTML file, add some JavaScript, open it in your browser, and see your code *do something* instantly. This is incredibly motivating.\n",
       "    *   **Full-Stack Potential:** With Node.js, you can use JavaScript for server-side (backend) development as well, meaning you can build an entire web application using just one language.\n",
       "    *   **Versatile Beyond Web:**\n",
       "        *   **Mobile Apps:** (React Native)\n",
       "        *   **Desktop Apps:** (Electron – Slack, VS Code are built with it)\n",
       "        *   **Game Development:** (Phaser, Three.js for 3D)\n",
       "    *   **High Demand:** JavaScript developers are in constant demand.\n",
       "\n",
       "*   **Cons:**\n",
       "    *   **Can be Tricky:** Some of its core concepts (like `this`, asynchronous programming) can be a bit confusing for beginners.\n",
       "    *   **\"Framework Fatigue\":** The JavaScript ecosystem changes rapidly, with new frameworks and libraries emerging frequently. This can feel overwhelming, but you don't need to learn them all at once.\n",
       "\n",
       "#### c) Learn Fortran\n",
       "\n",
       "*   **Pros:**\n",
       "    *   **Extremely Fast for Numerical Computation:** Fortran was designed for scientific and engineering calculations and excels at them. It's often used in high-performance computing (HPC).\n",
       "    *   **Legacy Code & Specific Fields:** Still widely used in niche areas like meteorology, aerospace, quantum chemistry, climate modeling, and physics simulations where performance is paramount and decades-old codebases exist.\n",
       "\n",
       "*   **Cons:**\n",
       "    *   **Very Niche:** Unless you are dead-set on a very specific scientific computing career path *right now*, Fortran is not a general-purpose language.\n",
       "    *   **Not Beginner-Friendly for General Use:** Its syntax is less intuitive and more verbose than Python, and it doesn't offer the same kind of immediate, visible results as JavaScript.\n",
       "    *   **Limited Applications for a Beginner:** You won't be building websites, mobile apps, or general desktop tools easily with Fortran.\n",
       "    *   **Smaller Community/Resources for Newbies:** While there's a strong scientific community, general learning resources for a complete beginner are less abundant compared to Python or JavaScript.\n",
       "\n",
       "---\n",
       "\n",
       "### My Recommendation for a High School Student:\n",
       "\n",
       "**I strongly suggest you start with Python.**\n",
       "\n",
       "**Why Python?**\n",
       "\n",
       "1.  **Ease of Entry:** It's the most beginner-friendly language of the three. You'll spend less time wrestling with syntax and more time learning fundamental programming concepts (variables, loops, functions, data structures). This builds confidence early on.\n",
       "2.  **Breadth of Application:** Python opens up so many doors. You can explore web development, dive into data analysis (which is *huge* for colleges and future jobs), automate things, or even tinker with AI. This versatility means you can try out different areas of computer science to see what genuinely interests you without having to learn a completely new language.\n",
       "3.  **Foundation for Future Learning:** Learning Python's clear syntax and structure makes it easier to pick up other languages later, including JavaScript, if you decide you want to build web frontends.\n",
       "4.  **Academic Relevance:** Many introductory computer science courses in college use Python. Getting a head start will give you a significant advantage.\n",
       "5.  **Project Potential:** You can start building cool, meaningful projects relatively quickly. Think about automating a task for school, analyzing some data, or even making a simple game.\n",
       "\n",
       "---\n",
       "\n",
       "### When to Consider JavaScript (as your second language):\n",
       "\n",
       "Once you have a solid grasp of Python's fundamentals, if you find yourself drawn to building interactive websites or web applications, then JavaScript should absolutely be your next stop. Python is great for the \"behind the scenes\" (backend) of a website, while JavaScript is essential for what users see and interact with (frontend).\n",
       "\n",
       "### When to Consider Fortran:\n",
       "\n",
       "Only if, down the line, you become deeply passionate about high-performance scientific computing, numerical simulations, or specific engineering disciplines that heavily rely on it. It's a specialist's tool, not a generalist's.\n",
       "\n",
       "---\n",
       "\n",
       "### How to Get Started with Python:\n",
       "\n",
       "1.  **Online Courses:**\n",
       "    *   **freeCodeCamp:** Excellent free resources for Python.\n",
       "    *   **Codecademy:** Interactive lessons.\n",
       "    *   **Coursera/edX:** Look for introductory Python courses from top universities (often free to audit).\n",
       "    *   **YouTube:** Search for \"Python for beginners\" – many great channels like Mosh Hamedani, Tech With Tim, etc.\n",
       "2.  **Practice:** The most important part!\n",
       "    *   **Solve coding challenges:** Websites like LeetCode (maybe later), HackerRank, or Codewars are great for practice.\n",
       "    *   **Build small projects:** Start with simple things: a calculator, a \"guess the number\" game, a rock-paper-scissors game. Then move to things that automate tasks you do or process data you're interested in.\n",
       "\n",
       "Good luck! This is an exciting journey you're embarking on."
      ],
      "text/plain": [
       "<IPython.core.display.Markdown object>"
      ]
     },
     "metadata": {},
     "output_type": "display_data"
    }
   ],
   "source": [
    "prompt = \"\"\"I'm a high school student. Which of these activities do you suggest and why:\n",
    "a) learn Python\n",
    "b) learn JavaScript\n",
    "c) learn Fortran\n",
    "\"\"\"\n",
    "\n",
    "response = client.models.generate_content(model=MODEL_ID, contents=prompt)\n",
    "display(Markdown(response.text))"
   ]
  },
  {
   "cell_type": "markdown",
   "metadata": {
    "id": "iTd60b1GdIsx"
   },
   "source": [
    "### Improve response quality by including examples"
   ]
  },
  {
   "cell_type": "markdown",
   "metadata": {
    "id": "yJi44NejdJYE"
   },
   "source": [
    "Another way to improve response quality is to add examples in your prompt. The LLM learns in-context from the examples on how to respond. Typically, one to five examples (shots) are enough to improve the quality of responses. Including too many examples can cause the model to over-fit the data and reduce the quality of responses.\n",
    "\n",
    "Similar to classical model training, the quality and distribution of the examples is very important. Pick examples that are representative of the scenarios that you need the model to learn, and keep the distribution of the examples (e.g. number of examples per class in the case of classification) aligned with your actual distribution."
   ]
  },
  {
   "cell_type": "markdown",
   "metadata": {
    "id": "sMbLginWdOKs"
   },
   "source": [
    "#### Zero-shot prompt"
   ]
  },
  {
   "cell_type": "markdown",
   "metadata": {
    "id": "Crh2Loi2dQ0v"
   },
   "source": [
    "Below is an example of zero-shot prompting, where you don't provide any examples to the LLM within the prompt itself."
   ]
  },
  {
   "cell_type": "code",
   "execution_count": 19,
   "metadata": {
    "id": "-7myRc-SdTQ4",
    "tags": []
   },
   "outputs": [
    {
     "data": {
      "text/markdown": [
       "Positive"
      ],
      "text/plain": [
       "<IPython.core.display.Markdown object>"
      ]
     },
     "metadata": {},
     "output_type": "display_data"
    }
   ],
   "source": [
    "prompt = \"\"\"Decide whether a Tweet's sentiment is positive, neutral, or negative.\n",
    "\n",
    "Tweet: I loved the new YouTube video you made!\n",
    "Sentiment:\n",
    "\"\"\"\n",
    "\n",
    "response = client.models.generate_content(model=MODEL_ID, contents=prompt)\n",
    "display(Markdown(response.text))"
   ]
  },
  {
   "cell_type": "markdown",
   "metadata": {
    "id": "ucRtPn9SdL64"
   },
   "source": [
    "#### One-shot prompt"
   ]
  },
  {
   "cell_type": "markdown",
   "metadata": {
    "id": "rs0gQH2vdYBi"
   },
   "source": [
    "Below is an example of one-shot prompting, where you provide one example to the LLM within the prompt to give some guidance on what type of response you want."
   ]
  },
  {
   "cell_type": "code",
   "execution_count": 20,
   "metadata": {
    "id": "iEq-KxGYdaT5",
    "tags": []
   },
   "outputs": [
    {
     "data": {
      "text/markdown": [
       "negative"
      ],
      "text/plain": [
       "<IPython.core.display.Markdown object>"
      ]
     },
     "metadata": {},
     "output_type": "display_data"
    }
   ],
   "source": [
    "prompt = \"\"\"Decide whether a Tweet's sentiment is positive, neutral, or negative.\n",
    "\n",
    "Tweet: I loved the new YouTube video you made!\n",
    "Sentiment: positive\n",
    "\n",
    "Tweet: That was awful. Super boring 😠\n",
    "Sentiment:\n",
    "\"\"\"\n",
    "\n",
    "response = client.models.generate_content(model=MODEL_ID, contents=prompt)\n",
    "display(Markdown(response.text))"
   ]
  },
  {
   "cell_type": "markdown",
   "metadata": {
    "id": "JnKLjJzmdfL_"
   },
   "source": [
    "#### Few-shot prompt"
   ]
  },
  {
   "cell_type": "markdown",
   "metadata": {
    "id": "6Zv-9F5OdgI_"
   },
   "source": [
    "Below is an example of few-shot prompting, where you provide a few examples to the LLM within the prompt to give some guidance on what type of response you want."
   ]
  },
  {
   "cell_type": "code",
   "execution_count": 21,
   "metadata": {
    "id": "u37P9tG4dk9S",
    "tags": []
   },
   "outputs": [
    {
     "data": {
      "text/markdown": [
       "positive"
      ],
      "text/plain": [
       "<IPython.core.display.Markdown object>"
      ]
     },
     "metadata": {},
     "output_type": "display_data"
    }
   ],
   "source": [
    "prompt = \"\"\"Decide whether a Tweet's sentiment is positive, neutral, or negative.\n",
    "\n",
    "Tweet: I loved the new YouTube video you made!\n",
    "Sentiment: positive\n",
    "\n",
    "Tweet: That was awful. Super boring 😠\n",
    "Sentiment: negative\n",
    "\n",
    "Tweet: Something surprised me about this video - it was actually original. It was not the same old recycled stuff that I always see. Watch it - you will not regret it.\n",
    "Sentiment:\n",
    "\"\"\"\n",
    "\n",
    "response = client.models.generate_content(model=MODEL_ID, contents=prompt)\n",
    "display(Markdown(response.text))"
   ]
  },
  {
   "cell_type": "markdown",
   "metadata": {
    "id": "wDMD3xb2dvX6"
   },
   "source": [
    "#### Choosing between zero-shot, one-shot, few-shot prompting methods"
   ]
  },
  {
   "cell_type": "markdown",
   "metadata": {
    "id": "s92W0YpNdxJp"
   },
   "source": [
    "Which prompt technique to use will solely depends on your goal. The zero-shot prompts are more open-ended and can give you creative answers, while one-shot and few-shot prompts teach the model how to behave so you can get more predictable answers that are consistent with the examples provided."
   ]
  }
 ],
 "metadata": {
  "colab": {
   "name": "intro_prompt_design.ipynb",
   "toc_visible": true
  },
  "environment": {
   "kernel": "conda-base-py",
   "name": "workbench-notebooks.m130",
   "type": "gcloud",
   "uri": "us-docker.pkg.dev/deeplearning-platform-release/gcr.io/workbench-notebooks:m130"
  },
  "kernelspec": {
   "display_name": "Python 3 (ipykernel) (Local)",
   "language": "python",
   "name": "conda-base-py"
  },
  "language_info": {
   "codemirror_mode": {
    "name": "ipython",
    "version": 3
   },
   "file_extension": ".py",
   "mimetype": "text/x-python",
   "name": "python",
   "nbconvert_exporter": "python",
   "pygments_lexer": "ipython3",
   "version": "3.10.18"
  }
 },
 "nbformat": 4,
 "nbformat_minor": 4
}
